{
 "cells": [
  {
   "cell_type": "code",
   "execution_count": 1,
   "metadata": {},
   "outputs": [],
   "source": [
    "from definitions_equiang import *\n",
    "num_cores = multiprocessing.cpu_count()"
   ]
  },
  {
   "cell_type": "code",
   "execution_count": 2,
   "metadata": {},
   "outputs": [
    {
     "name": "stdout",
     "output_type": "stream",
     "text": [
      "Loaded 257 graphs from plantri.\n"
     ]
    }
   ],
   "source": [
    "Graphs3 = load_plantri(filename='plantri/08pc3')\n",
    "print(f'Loaded {len(Graphs3)} graphs from plantri.')"
   ]
  },
  {
   "cell_type": "code",
   "execution_count": 3,
   "metadata": {},
   "outputs": [
    {
     "name": "stderr",
     "output_type": "stream",
     "text": [
      "100%|██████████| 257/257 [00:01<00:00, 211.39it/s]\n"
     ]
    },
    {
     "name": "stdout",
     "output_type": "stream",
     "text": [
      "Constructed 39 graphs with a distinguished vertex.\n"
     ]
    }
   ],
   "source": [
    "inputs = tqdm(Graphs3)\n",
    "\n",
    "if __name__ == \"__main__\":\n",
    "    processed_list = Parallel(n_jobs=num_cores)(delayed(add_distinguished)(G) for G in inputs)\n",
    "\n",
    "Graphs3 = [G for DGraph in processed_list for G in DGraph]\n",
    "\n",
    "print(f'Constructed {len(Graphs3)} graphs with a distinguished vertex.')"
   ]
  },
  {
   "cell_type": "code",
   "execution_count": 4,
   "metadata": {},
   "outputs": [
    {
     "name": "stderr",
     "output_type": "stream",
     "text": [
      "100%|██████████| 39/39 [00:00<00:00, 2323.02it/s]\n"
     ]
    },
    {
     "name": "stdout",
     "output_type": "stream",
     "text": [
      "There are 9 triangular graphs left after first filter.\n"
     ]
    }
   ],
   "source": [
    "inputs = tqdm(Graphs3)\n",
    "\n",
    "if __name__ == \"__main__\":\n",
    "    processed_list = Parallel(n_jobs=num_cores)(delayed(second_filter)(G) for G in inputs)\n",
    "\n",
    "Graphs3_3 = [Graphs3[i] for i in range(len(Graphs3)) if processed_list[i]]\n",
    "\n",
    "print(f'There are {len(Graphs3_3)} triangular graphs left after first filter.')\n",
    "\n",
    "save_data(Graphs3_3,'graphs/equiangular_filtered_3_3.txt')"
   ]
  },
  {
   "cell_type": "code",
   "execution_count": 5,
   "metadata": {},
   "outputs": [
    {
     "name": "stderr",
     "output_type": "stream",
     "text": [
      "100%|██████████| 39/39 [00:00<00:00, 2107.91it/s]\n"
     ]
    },
    {
     "name": "stdout",
     "output_type": "stream",
     "text": [
      "There are 3 quadrilateral graphs.\n"
     ]
    }
   ],
   "source": [
    "inputs = tqdm(Graphs3)\n",
    "\n",
    "if __name__ == \"__main__\":\n",
    "    processed_list = Parallel(n_jobs=num_cores)(delayed(has_min_deg)(G, 4) for G in inputs)\n",
    "\n",
    "Graphs3_4 = [Graphs3[i] for i in range(len(Graphs3)) if processed_list[i]]\n",
    "\n",
    "print(f'There are {len(Graphs3_4)} quadrilateral graphs.')\n",
    "\n",
    "save_data(Graphs3_4,'graphs/equiangular_filtered_3_4.txt')"
   ]
  },
  {
   "cell_type": "code",
   "execution_count": 6,
   "metadata": {},
   "outputs": [
    {
     "name": "stderr",
     "output_type": "stream",
     "text": [
      "100%|██████████| 3/3 [00:00<00:00, 3159.95it/s]\n"
     ]
    },
    {
     "name": "stdout",
     "output_type": "stream",
     "text": [
      "There are 0 pentagonal graphs.\n"
     ]
    }
   ],
   "source": [
    "inputs = tqdm(Graphs3_4)\n",
    "\n",
    "if __name__ == \"__main__\":\n",
    "    processed_list = Parallel(n_jobs=num_cores)(delayed(has_min_deg)(G, 5) for G in inputs)\n",
    "\n",
    "Graphs3_5 = [Graphs3_4[i] for i in range(len(Graphs3_4)) if processed_list[i]]\n",
    "\n",
    "print(f'There are {len(Graphs3_5)} pentagonal graphs.')"
   ]
  },
  {
   "cell_type": "code",
   "execution_count": 7,
   "metadata": {
    "scrolled": true
   },
   "outputs": [
    {
     "name": "stderr",
     "output_type": "stream",
     "text": [
      "100%|██████████| 9/9 [00:00<00:00, 89.04it/s]\n"
     ]
    },
    {
     "name": "stdout",
     "output_type": "stream",
     "text": [
      "There are 1 triangular graphs left after performing a deep search for each graph.\n"
     ]
    }
   ],
   "source": [
    "save_ang_perms(3,'equiang_3_perms.txt', use5AT = True)\n",
    "\n",
    "inputs = tqdm(Graphs3_3)\n",
    "\n",
    "if __name__ == \"__main__\":\n",
    "    processed_list = Parallel(n_jobs=num_cores)(delayed(search)(ig,G,'equiang_3_perms.txt', use5AT = True) for ig,G in enumerate(inputs))\n",
    "\n",
    "FinalNodes_3 = [Nodes for Nodes in processed_list if len(Nodes)>0]\n",
    "\n",
    "print(f'There are {len(FinalNodes_3)} triangular graphs left after performing a deep search for each graph.')"
   ]
  },
  {
   "cell_type": "code",
   "execution_count": 8,
   "metadata": {},
   "outputs": [
    {
     "name": "stderr",
     "output_type": "stream",
     "text": [
      "100%|██████████| 3/3 [00:00<00:00, 4213.97it/s]\n"
     ]
    },
    {
     "name": "stdout",
     "output_type": "stream",
     "text": [
      "There are 1 quadrilateral graphs left after performing a deep search for each graph.\n"
     ]
    }
   ],
   "source": [
    "save_ang_perms(4,'equiang_4_perms.txt')\n",
    "\n",
    "inputs = tqdm(Graphs3_4)\n",
    "\n",
    "if __name__ == \"__main__\":\n",
    "    processed_list = Parallel(n_jobs=num_cores)(delayed(search)(ig,G,'equiang_4_perms.txt') for ig,G in enumerate(inputs))\n",
    "\n",
    "FinalNodes_4 = [Nodes for Nodes in processed_list if len(Nodes)>0]\n",
    "\n",
    "print(f'There are {len(FinalNodes_4)} quadrilateral graphs left after performing a deep search for each graph.')"
   ]
  },
  {
   "cell_type": "code",
   "execution_count": 9,
   "metadata": {
    "tags": []
   },
   "outputs": [
    {
     "data": {
      "image/png": "[encoded data removed]",
      "text/plain": [
       "<Figure size 432x288 with 1 Axes>"
      ]
     },
     "metadata": {},
     "output_type": "display_data"
    },
    {
     "name": "stdout",
     "output_type": "stream",
     "text": [
      "Graph number 5 has solutions with:\n",
      "{x0: 90.0000000000000, x1: 90.0 - x2}\n",
      "\n",
      "{x0: 90.0000000000000, x1: 45.0000000000000, x2: 45.0000000000000}\n",
      "\n"
     ]
    }
   ],
   "source": [
    "P = load_ang_perms('equiang_3_perms.txt')\n",
    "for N in FinalNodes_3:\n",
    "    ig = N[0].iG\n",
    "    Graphs3_3[ig].draw()\n",
    "    print(f'Graph number {ig} has solutions with:')\n",
    "    sols = []\n",
    "    for G in N:\n",
    "        a=solve(G.AngleEqs)\n",
    "        if a not in sols:\n",
    "            sols.append(a)\n",
    "            print(a)\n",
    "            print()"
   ]
  },
  {
   "cell_type": "code",
   "execution_count": 10,
   "metadata": {
    "tags": []
   },
   "outputs": [
    {
     "data": {
      "image/png": "[encoded data removed]",
      "text/plain": [
       "<Figure size 432x288 with 1 Axes>"
      ]
     },
     "metadata": {},
     "output_type": "display_data"
    },
    {
     "name": "stdout",
     "output_type": "stream",
     "text": [
      "Graph number 1 has solutions with:\n",
      "{x0: 90.0000000000000, x1: 180.0 - x2, x3: 90.0000000000000}\n",
      "\n",
      "{x0: 90.0000000000000, x1: 90.0000000000000, x2: 180.0 - x3}\n",
      "\n"
     ]
    }
   ],
   "source": [
    "L = []\n",
    "for N in FinalNodes_4:\n",
    "    ig = N[0].iG\n",
    "    L.append(Graphs3_4[ig])\n",
    "    Graphs3_4[ig].draw()\n",
    "    print(f'Graph number {ig} has solutions with:')\n",
    "    sols = []\n",
    "    for G in N:\n",
    "        a=solve(G.AngleEqs)\n",
    "        if a not in sols:\n",
    "            sols.append(a)\n",
    "            print(a)\n",
    "            print()"
   ]
  }
 ],
 "metadata": {
  "kernelspec": {
   "display_name": "base",
   "language": "python",
   "name": "base"
  },
  "language_info": {
   "codemirror_mode": {
    "name": "ipython",
    "version": 3
   },
   "file_extension": ".py",
   "mimetype": "text/x-python",
   "name": "python",
   "nbconvert_exporter": "python",
   "pygments_lexer": "ipython3",
   "version": "3.7.10"
  }
 },
 "nbformat": 4,
 "nbformat_minor": 4
}
