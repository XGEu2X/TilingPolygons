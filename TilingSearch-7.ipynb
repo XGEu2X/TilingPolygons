{
 "cells": [
  {
   "cell_type": "code",
   "execution_count": 1,
   "metadata": {},
   "outputs": [],
   "source": [
    "from definitions import *\n",
    "num_cores = multiprocessing.cpu_count()"
   ]
  },
  {
   "cell_type": "code",
   "execution_count": 2,
   "metadata": {},
   "outputs": [
    {
     "name": "stdout",
     "output_type": "stream",
     "text": [
      "Loaded 3515 grahps from plantri.\n"
     ]
    }
   ],
   "source": [
    "Graphs7 = load_plantri(filename='12pm4c3')\n",
    "print(f'Loaded {len(Graphs7)} grahps from plantri.')"
   ]
  },
  {
   "cell_type": "code",
   "execution_count": 3,
   "metadata": {},
   "outputs": [
    {
     "name": "stderr",
     "output_type": "stream",
     "text": [
      "100%|██████████| 3515/3515 [00:03<00:00, 902.84it/s]\n"
     ]
    },
    {
     "name": "stdout",
     "output_type": "stream",
     "text": [
      "Constructed 8334 graphs with a distinguished vertex.\n"
     ]
    }
   ],
   "source": [
    "inputs = tqdm(Graphs7)\n",
    "\n",
    "if __name__ == \"__main__\":\n",
    "    processed_list = Parallel(n_jobs=num_cores)(delayed(add_distinguished)(G) for G in inputs)\n",
    "\n",
    "Graphs7 = [G for DGraph in processed_list for G in DGraph]\n",
    "\n",
    "print(f'Constructed {len(Graphs7)} graphs with a distinguished vertex.')"
   ]
  },
  {
   "cell_type": "code",
   "execution_count": 4,
   "metadata": {},
   "outputs": [
    {
     "name": "stderr",
     "output_type": "stream",
     "text": [
      "100%|██████████| 8334/8334 [00:02<00:00, 2953.21it/s]\n"
     ]
    },
    {
     "name": "stdout",
     "output_type": "stream",
     "text": [
      "Left with 5414 graphs after first filter.\n"
     ]
    }
   ],
   "source": [
    "inputs = tqdm(Graphs7)\n",
    "\n",
    "if __name__ == \"__main__\":\n",
    "    processed_list = Parallel(n_jobs=num_cores)(delayed(first_filter)(G) for G in inputs)\n",
    "\n",
    "Graphs7 = [Graphs7[i] for i in range(len(Graphs7)) if processed_list[i]]\n",
    "\n",
    "print(f'Left with {len(Graphs7)} graphs after first filter.')"
   ]
  },
  {
   "cell_type": "code",
   "execution_count": 5,
   "metadata": {},
   "outputs": [
    {
     "name": "stderr",
     "output_type": "stream",
     "text": [
      "100%|██████████| 5414/5414 [00:01<00:00, 3542.24it/s]\n"
     ]
    },
    {
     "name": "stdout",
     "output_type": "stream",
     "text": [
      "There are 0 pentagonal graphs.\n"
     ]
    }
   ],
   "source": [
    "inputs = tqdm(Graphs7)\n",
    "\n",
    "if __name__ == \"__main__\":\n",
    "    processed_list = Parallel(n_jobs=num_cores)(delayed(has_min_deg)(G,5) for G in inputs)\n",
    "\n",
    "Graphs7_5 = [Graphs7[i] for i in range(len(Graphs7)) if processed_list[i]]\n",
    "\n",
    "print(f'There are {len(Graphs7_5)} pentagonal graphs.')"
   ]
  },
  {
   "cell_type": "code",
   "execution_count": 6,
   "metadata": {},
   "outputs": [
    {
     "name": "stderr",
     "output_type": "stream",
     "text": [
      "100%|██████████| 5414/5414 [00:01<00:00, 3478.16it/s]\n"
     ]
    },
    {
     "name": "stdout",
     "output_type": "stream",
     "text": [
      "Left with 2792 quadrilateral graphs after second filter.\n"
     ]
    }
   ],
   "source": [
    "inputs = tqdm(Graphs7)\n",
    "\n",
    "if __name__ == \"__main__\":\n",
    "    processed_list = Parallel(n_jobs=num_cores)(delayed(second_filter)(G) for G in inputs)\n",
    "\n",
    "Graphs7_4 = [Graphs7[i] for i in range(len(Graphs7)) if processed_list[i]]\n",
    "\n",
    "print(f'Left with {len(Graphs7_4)} quadrilateral graphs after second filter.')\n",
    "\n",
    "save_data(Graphs7_4,'filtered_7_4.txt')"
   ]
  },
  {
   "cell_type": "code",
   "execution_count": 7,
   "metadata": {},
   "outputs": [
    {
     "name": "stderr",
     "output_type": "stream",
     "text": [
      "100%|██████████| 2792/2792 [09:39<00:00,  4.82it/s]\n"
     ]
    }
   ],
   "source": [
    "Graphs7_4 = load_data('filtered_7_4.txt')\n",
    "\n",
    "save_ang_perms(4,'4_perms.txt')\n",
    "\n",
    "inputs = tqdm(Graphs7_4)\n",
    "\n",
    "if __name__ == \"__main__\":\n",
    "    processed_list = Parallel(n_jobs=num_cores)(delayed(search)(ig,G,'4_perms.txt') for ig,G in enumerate(inputs))\n",
    "\n",
    "FinalNodes = [Nodes for Nodes in processed_list if len(Nodes)>0]\n",
    "\n",
    "print(f'Left with {len(FinalNodes)} graphs after performing a deep search for each graph.')"
   ]
  }
 ],
 "metadata": {
  "kernelspec": {
   "display_name": "Python 3",
   "language": "python",
   "name": "python3"
  },
  "language_info": {
   "codemirror_mode": {
    "name": "ipython",
    "version": 3
   },
   "file_extension": ".py",
   "mimetype": "text/x-python",
   "name": "python",
   "nbconvert_exporter": "python",
   "pygments_lexer": "ipython3",
   "version": "3.7.10"
  }
 },
 "nbformat": 4,
 "nbformat_minor": 4
}
