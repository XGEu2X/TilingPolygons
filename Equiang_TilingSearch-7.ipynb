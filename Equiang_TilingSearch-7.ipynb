{
 "cells": [
  {
   "cell_type": "code",
   "execution_count": 1,
   "metadata": {},
   "outputs": [],
   "source": [
    "from definitions_equiang import *\n",
    "num_cores = multiprocessing.cpu_count()"
   ]
  },
  {
   "cell_type": "code",
   "execution_count": 2,
   "metadata": {},
   "outputs": [
    {
     "name": "stdout",
     "output_type": "stream",
     "text": [
      "Loaded 6384634 grahps from plantri.\n"
     ]
    }
   ],
   "source": [
    "Graphs7 = load_plantri(filename='plantri/12pc3')\n",
    "print(f'Loaded {len(Graphs7)} grahps from plantri.')"
   ]
  },
  {
   "cell_type": "code",
   "execution_count": 3,
   "metadata": {},
   "outputs": [
    {
     "name": "stderr",
     "output_type": "stream",
     "text": [
      "100%|██████████| 6384634/6384634 [22:45<00:00, 4677.06it/s]  \n"
     ]
    },
    {
     "name": "stdout",
     "output_type": "stream",
     "text": [
      "Constructed 1331768 graphs with a distinguished vertex.\n"
     ]
    }
   ],
   "source": [
    "inputs = tqdm(Graphs7)\n",
    "\n",
    "if __name__ == \"__main__\":\n",
    "    processed_list = Parallel(n_jobs=num_cores)(delayed(add_distinguished)(G) for G in inputs)\n",
    "\n",
    "Graphs7 = [G for DGraph in processed_list for G in DGraph]\n",
    "\n",
    "print(f'Constructed {len(Graphs7)} graphs with a distinguished vertex.')"
   ]
  },
  {
   "cell_type": "code",
   "execution_count": 4,
   "metadata": {},
   "outputs": [
    {
     "name": "stderr",
     "output_type": "stream",
     "text": [
      "100%|██████████| 1331768/1331768 [08:46<00:00, 2531.64it/s]\n"
     ]
    },
    {
     "name": "stdout",
     "output_type": "stream",
     "text": [
      "There are 502372 triangular graphs left after filter.\n"
     ]
    }
   ],
   "source": [
    "inputs = tqdm(Graphs7)\n",
    "\n",
    "if __name__ == \"__main__\":\n",
    "    processed_list = Parallel(n_jobs=num_cores)(delayed(second_filter)(G) for G in inputs)\n",
    "\n",
    "Graphs7_3 = [Graphs7[i] for i in range(len(Graphs7)) if processed_list[i]]\n",
    "\n",
    "print(f'There are {len(Graphs7_3)} triangular graphs left after filter.')"
   ]
  },
  {
   "cell_type": "code",
   "execution_count": 5,
   "metadata": {},
   "outputs": [
    {
     "name": "stderr",
     "output_type": "stream",
     "text": [
      "100%|██████████| 1331768/1331768 [10:00<00:00, 2216.13it/s]\n"
     ]
    },
    {
     "name": "stdout",
     "output_type": "stream",
     "text": [
      "There are 8334 quadrilateral graphs.\n"
     ]
    }
   ],
   "source": [
    "inputs = tqdm(Graphs7)\n",
    "\n",
    "if __name__ == \"__main__\":\n",
    "    processed_list = Parallel(n_jobs=num_cores)(delayed(has_min_deg)(G, 4) for G in inputs)\n",
    "\n",
    "Graphs7_4 = [Graphs7[i] for i in range(len(Graphs7)) if processed_list[i]]\n",
    "\n",
    "print(f'There are {len(Graphs7_4)} quadrilateral graphs.')"
   ]
  },
  {
   "cell_type": "code",
   "execution_count": 6,
   "metadata": {},
   "outputs": [
    {
     "name": "stderr",
     "output_type": "stream",
     "text": [
      "100%|██████████| 8334/8334 [00:03<00:00, 2693.00it/s]\n"
     ]
    },
    {
     "name": "stdout",
     "output_type": "stream",
     "text": [
      "There are 0 pentagonal graphs.\n"
     ]
    }
   ],
   "source": [
    "inputs = tqdm(Graphs7_4)\n",
    "\n",
    "if __name__ == \"__main__\":\n",
    "    processed_list = Parallel(n_jobs=num_cores)(delayed(has_min_deg)(G, 5) for G in inputs)\n",
    "\n",
    "Graphs7_5 = [Graphs7_4[i] for i in range(len(Graphs7_4)) if processed_list[i]]\n",
    "\n",
    "print(f'There are {len(Graphs7_5)} pentagonal graphs.')"
   ]
  },
  {
   "cell_type": "code",
   "execution_count": null,
   "metadata": {
    "scrolled": true
   },
   "outputs": [],
   "source": [
    "Graphs7_3 = load_data('equiang_filtered_7_3.txt')\n",
    "save_ang_perms(3,'equiang_3_perms.txt', use5AT = True)\n",
    "\n",
    "inputs = tqdm(Graphs7_3[:200])\n",
    "\n",
    "if __name__ == \"__main__\":\n",
    "    processed_list = Parallel(n_jobs=num_cores)(delayed(search)(ig,G,'equiang_3_perms.txt', use5AT = True) for ig,G in enumerate(inputs))\n",
    "\n",
    "FinalNodes_3 = [Nodes for Nodes in processed_list if len(Nodes)>0]\n",
    "\n",
    "print(f'There are {len(FinalNodes_3)} triangular graphs left after performing a deep search for each graph.')"
   ]
  },
  {
   "cell_type": "code",
   "execution_count": null,
   "metadata": {
    "tags": []
   },
   "outputs": [],
   "source": [
    "Graphs7_4 = load_data('equiang_filtered_7_4.txt')\n",
    "save_ang_perms(4,'equiang_4_perms.txt')\n",
    "\n",
    "inputs = tqdm(Graphs7_4[:200])\n",
    "\n",
    "if __name__ == \"__main__\":\n",
    "    processed_list = Parallel(n_jobs=num_cores)(delayed(search)(ig,G,'equiang_4_perms.txt') for ig,G in enumerate(inputs))\n",
    "\n",
    "FinalNodes_4 = [Nodes for Nodes in processed_list if len(Nodes)>0]\n",
    "\n",
    "print(f'There are {len(FinalNodes_4)} quadrilateral graphs left after performing a deep search for each graph.')"
   ]
  }
 ],
 "metadata": {
  "kernelspec": {
   "display_name": "base",
   "language": "python",
   "name": "base"
  },
  "language_info": {
   "codemirror_mode": {
    "name": "ipython",
    "version": 3
   },
   "file_extension": ".py",
   "mimetype": "text/x-python",
   "name": "python",
   "nbconvert_exporter": "python",
   "pygments_lexer": "ipython3",
   "version": "3.7.10"
  }
 },
 "nbformat": 4,
 "nbformat_minor": 4
}
