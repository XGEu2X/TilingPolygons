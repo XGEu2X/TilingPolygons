{
 "cells": [
  {
   "cell_type": "code",
   "execution_count": 1,
   "metadata": {},
   "outputs": [],
   "source": [
    "from definitions import *\n",
    "num_cores = multiprocessing.cpu_count()"
   ]
  },
  {
   "cell_type": "code",
   "execution_count": 2,
   "metadata": {},
   "outputs": [
    {
     "name": "stdout",
     "output_type": "stream",
     "text": [
      "Loaded 307543 grahps from plantri.\n"
     ]
    }
   ],
   "source": [
    "Graphs9 = load_plantri(filename='14pm4c3')\n",
    "print(f'Loaded {len(Graphs9)} grahps from plantri.')"
   ]
  },
  {
   "cell_type": "code",
   "execution_count": 3,
   "metadata": {},
   "outputs": [
    {
     "name": "stderr",
     "output_type": "stream",
     "text": [
      "100%|██████████| 307543/307543 [06:15<00:00, 819.89it/s] \n"
     ]
    },
    {
     "name": "stdout",
     "output_type": "stream",
     "text": [
      "Constructed 813192 graphs with a distinguished vertex.\n"
     ]
    }
   ],
   "source": [
    "inputs = tqdm(Graphs9)\n",
    "\n",
    "if __name__ == \"__main__\":\n",
    "    processed_list = Parallel(n_jobs=num_cores)(delayed(add_distinguished)(G) for G in inputs)\n",
    "\n",
    "Graphs9 = [G for DGraph in processed_list for G in DGraph]\n",
    "\n",
    "print(f'Constructed {len(Graphs9)} graphs with a distinguished vertex.')"
   ]
  },
  {
   "cell_type": "code",
   "execution_count": 4,
   "metadata": {},
   "outputs": [
    {
     "name": "stderr",
     "output_type": "stream",
     "text": [
      "100%|██████████| 813192/813192 [06:56<00:00, 1951.90it/s] \n"
     ]
    },
    {
     "name": "stdout",
     "output_type": "stream",
     "text": [
      "Left with 523379 graphs after first filter.\n"
     ]
    }
   ],
   "source": [
    "inputs = tqdm(Graphs9)\n",
    "\n",
    "if __name__ == \"__main__\":\n",
    "    processed_list = Parallel(n_jobs=num_cores)(delayed(first_filter)(G) for G in inputs)\n",
    "\n",
    "Graphs9 = [Graphs9[i] for i in range(len(Graphs9)) if processed_list[i]]\n",
    "\n",
    "print(f'Left with {len(Graphs9)} graphs after first filter.')"
   ]
  },
  {
   "cell_type": "code",
   "execution_count": 5,
   "metadata": {},
   "outputs": [
    {
     "name": "stderr",
     "output_type": "stream",
     "text": [
      "100%|██████████| 523379/523379 [04:23<00:00, 1986.54it/s]\n"
     ]
    },
    {
     "name": "stdout",
     "output_type": "stream",
     "text": [
      "There are 4 pentagonal graphs.\n"
     ]
    }
   ],
   "source": [
    "inputs = tqdm(Graphs9)\n",
    "\n",
    "if __name__ == \"__main__\":\n",
    "    processed_list = Parallel(n_jobs=num_cores)(delayed(has_min_deg)(G,5) for G in inputs)\n",
    "\n",
    "Graphs9_5 = [Graphs9[i] for i in range(len(Graphs9)) if processed_list[i]]\n",
    "\n",
    "print(f'There are {len(Graphs9_5)} pentagonal graphs.')\n",
    "\n",
    "save_data(Graphs9_5,'filtered_9_5.txt')"
   ]
  },
  {
   "cell_type": "code",
   "execution_count": 6,
   "metadata": {},
   "outputs": [
    {
     "name": "stderr",
     "output_type": "stream",
     "text": [
      "100%|██████████| 523379/523379 [04:25<00:00, 1968.59it/s]\n"
     ]
    },
    {
     "name": "stdout",
     "output_type": "stream",
     "text": [
      "Left with 281678 quadrilateral graphs after second filter.\n"
     ]
    }
   ],
   "source": [
    "inputs = tqdm(Graphs9)\n",
    "\n",
    "if __name__ == \"__main__\":\n",
    "    processed_list = Parallel(n_jobs=num_cores)(delayed(second_filter)(G) for G in inputs)\n",
    "\n",
    "Graphs9_4 = [Graphs9[i] for i in range(len(Graphs9)) if processed_list[i]]\n",
    "\n",
    "print(f'Left with {len(Graphs9_4)} quadrilateral graphs after second filter.')\n",
    "\n",
    "save_data(Graphs9_4,'filtered_9_4.txt')"
   ]
  },
  {
   "cell_type": "code",
   "execution_count": 7,
   "metadata": {},
   "outputs": [
    {
     "name": "stderr",
     "output_type": "stream",
     "text": [
      "100%|██████████| 4/4 [00:00<00:00, 105.62it/s]\n"
     ]
    },
    {
     "name": "stdout",
     "output_type": "stream",
     "text": [
      "Left with 0 graphs after performing a deep search for each graph.\n"
     ]
    }
   ],
   "source": [
    "Graphs9_5 = load_data('filtered_9_5.txt')\n",
    "\n",
    "save_ang_perms(5,'5_perms.txt')\n",
    "\n",
    "inputs = tqdm(Graphs9_5)\n",
    "\n",
    "if __name__ == \"__main__\":\n",
    "    processed_list = Parallel(n_jobs=num_cores)(delayed(search)(ig,G,'5_perms.txt') for ig,G in enumerate(inputs))\n",
    "\n",
    "FinalNodes9_5 = [Nodes for Nodes in processed_list if len(Nodes)>0]\n",
    "\n",
    "print(f'Left with {len(FinalNodes9_5)} graphs after performing a deep search for each graph.')"
   ]
  },
  {
   "cell_type": "code",
   "execution_count": 8,
   "metadata": {},
   "outputs": [
    {
     "name": "stderr",
     "output_type": "stream",
     "text": [
      "100%|██████████| 281678/281678 [26:01:18<00:00,  3.01it/s]      \n"
     ]
    },
    {
     "name": "stdout",
     "output_type": "stream",
     "text": [
      "Left with 0 graphs after performing a deep search for each graph.\n"
     ]
    }
   ],
   "source": [
    "Graphs9_4 = load_data('filtered_9_4.txt')\n",
    "\n",
    "save_ang_perms(4,'4_perms.txt')\n",
    "\n",
    "inputs = tqdm(Graphs9_4)\n",
    "\n",
    "if __name__ == \"__main__\":\n",
    "    processed_list = Parallel(n_jobs=num_cores)(delayed(search)(ig,G,'4_perms.txt') for ig,G in enumerate(inputs))\n",
    "\n",
    "FinalNodes9_4 = [Nodes for Nodes in processed_list if len(Nodes)>0]\n",
    "\n",
    "print(f'Left with {len(FinalNodes9_4)} graphs after performing a deep search for each graph.')"
   ]
  }
 ],
 "metadata": {
  "kernelspec": {
   "display_name": "Python 3",
   "language": "python",
   "name": "python3"
  },
  "language_info": {
   "codemirror_mode": {
    "name": "ipython",
    "version": 3
   },
   "file_extension": ".py",
   "mimetype": "text/x-python",
   "name": "python",
   "nbconvert_exporter": "python",
   "pygments_lexer": "ipython3",
   "version": "3.7.11"
  }
 },
 "nbformat": 4,
 "nbformat_minor": 4
}
