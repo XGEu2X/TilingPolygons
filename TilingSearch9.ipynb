{
 "cells": [
  {
   "cell_type": "code",
   "execution_count": 1,
   "metadata": {},
   "outputs": [],
   "source": [
    "from definitions import *\n",
    "num_cores = multiprocessing.cpu_count()"
   ]
  },
  {
   "cell_type": "code",
   "execution_count": 2,
   "metadata": {},
   "outputs": [
    {
     "name": "stdout",
     "output_type": "stream",
     "text": [
      "Loaded 307543 grahps from plantri.\n"
     ]
    }
   ],
   "source": [
    "Graphs9 = load_plantri(filename='14pm4c3')\n",
    "print(f'Loaded {len(Graphs9)} grahps from plantri.')"
   ]
  },
  {
   "cell_type": "code",
   "execution_count": 3,
   "metadata": {},
   "outputs": [
    {
     "name": "stderr",
     "output_type": "stream",
     "text": [
      "100%|██████████| 307543/307543 [06:14<00:00, 821.09it/s] \n"
     ]
    },
    {
     "name": "stdout",
     "output_type": "stream",
     "text": [
      "Constructed 814516 graphs with a distinguished vertex.\n"
     ]
    }
   ],
   "source": [
    "inputs = tqdm(Graphs9)\n",
    "\n",
    "if __name__ == \"__main__\":\n",
    "    processed_list = Parallel(n_jobs=num_cores)(delayed(add_distinguished)(G) for G in inputs)\n",
    "\n",
    "Graphs9 = [G for DGraph in processed_list for G in DGraph]\n",
    "\n",
    "print(f'Constructed {len(Graphs9)} graphs with a distinguished vertex.')\n",
    "save_data(Graphs9,'all_tiling_grahps_9.txt')"
   ]
  },
  {
   "cell_type": "code",
   "execution_count": 4,
   "metadata": {},
   "outputs": [
    {
     "name": "stderr",
     "output_type": "stream",
     "text": [
      "100%|██████████| 814516/814516 [06:47<00:00, 1997.32it/s]\n"
     ]
    },
    {
     "name": "stdout",
     "output_type": "stream",
     "text": [
      "Left with 523827 graphs after first filter.\n"
     ]
    }
   ],
   "source": [
    "#Graphs9 = load_data('all_tiling_grahps_9.txt')\n",
    "\n",
    "inputs = tqdm(Graphs9)\n",
    "\n",
    "if __name__ == \"__main__\":\n",
    "    processed_list = Parallel(n_jobs=num_cores)(delayed(first_filter)(G) for G in inputs)\n",
    "\n",
    "Graphs9 = [Graphs9[i] for i in range(len(Graphs9)) if processed_list[i]]\n",
    "\n",
    "print(f'Left with {len(Graphs9)} graphs after first filter.')\n",
    "save_data(Graphs9,'filtered_tiling_grahps_9.txt')"
   ]
  },
  {
   "cell_type": "code",
   "execution_count": 5,
   "metadata": {},
   "outputs": [
    {
     "name": "stderr",
     "output_type": "stream",
     "text": [
      "100%|██████████| 523827/523827 [04:17<00:00, 2031.90it/s]\n"
     ]
    },
    {
     "name": "stdout",
     "output_type": "stream",
     "text": [
      "Left with 281678 quadrilateral graphs after second filter.\n"
     ]
    }
   ],
   "source": [
    "#Graphs9 = load_data('filtered_tiling_grahps_9.txt')\n",
    "\n",
    "inputs = tqdm(Graphs9)\n",
    "\n",
    "if __name__ == \"__main__\":\n",
    "    processed_list = Parallel(n_jobs=num_cores)(delayed(second_filter)(G) for G in inputs)\n",
    "\n",
    "Graphs9_4 = [Graphs9[i] for i in range(len(Graphs9)) if processed_list[i]]\n",
    "\n",
    "print(f'Left with {len(Graphs9_4)} quadrilateral graphs after second filter.')\n",
    "\n",
    "save_data(Graphs9_4,'quadrilateral_tiling_grahps_9.txt')"
   ]
  },
  {
   "cell_type": "code",
   "execution_count": 6,
   "metadata": {},
   "outputs": [
    {
     "name": "stderr",
     "output_type": "stream",
     "text": [
      "100%|██████████| 523827/523827 [04:25<00:00, 1973.89it/s]\n"
     ]
    },
    {
     "name": "stdout",
     "output_type": "stream",
     "text": [
      "There are 4 pentagonal graphs.\n"
     ]
    }
   ],
   "source": [
    "#Graphs9 = load_data('filtered_tiling_grahps_9.txt')\n",
    "\n",
    "inputs = tqdm(Graphs9)\n",
    "\n",
    "if __name__ == \"__main__\":\n",
    "    processed_list = Parallel(n_jobs=num_cores)(delayed(has_min_deg_5)(G) for G in inputs)\n",
    "\n",
    "Graphs9_5 = [Graphs9[i] for i in range(len(Graphs9)) if processed_list[i]]\n",
    "\n",
    "print(f'There are {len(Graphs9_5)} pentagonal graphs.')\n",
    "\n",
    "save_data(Graphs9_5,'pentagonal_tiling_grahps_9.txt')"
   ]
  },
  {
   "cell_type": "code",
   "execution_count": 7,
   "metadata": {},
   "outputs": [
    {
     "name": "stderr",
     "output_type": "stream",
     "text": [
      "  0%|          | 0/1000 [00:00<?, ?it/s]"
     ]
    },
    {
     "name": "stdout",
     "output_type": "stream",
     "text": [
      "Exploring quadrilateral case - Part 1\n"
     ]
    },
    {
     "name": "stderr",
     "output_type": "stream",
     "text": [
      "100%|██████████| 1000/1000 [24:29<00:00,  1.47s/it]\n"
     ]
    },
    {
     "name": "stdout",
     "output_type": "stream",
     "text": [
      "Left with 0 graphs.\n"
     ]
    }
   ],
   "source": [
    "#Graphs9_4 = load_data('quadrilateral_tiling_grahps_9.txt')\n",
    "save_ang_perms(4,'4_perms.txt')\n",
    "\n",
    "print('Exploring quadrilateral case - Part 1')\n",
    "\n",
    "inputs = tqdm(Graphs9_4[:1000])\n",
    "numSides = 4\n",
    "\n",
    "if __name__ == \"__main__\":\n",
    "    processed_list = Parallel(n_jobs=num_cores)(delayed(search)(ig,G,numSides) for ig,G in enumerate(inputs))\n",
    "\n",
    "FinalNodes_4 = [Nodes for Nodes in processed_list if len(Nodes)>0]\n",
    "\n",
    "print(f'Left with {len(FinalNodes_4)} graphs.')"
   ]
  },
  {
   "cell_type": "code",
   "execution_count": null,
   "metadata": {},
   "outputs": [
    {
     "name": "stderr",
     "output_type": "stream",
     "text": [
      "  0%|          | 0/9000 [00:00<?, ?it/s]"
     ]
    },
    {
     "name": "stdout",
     "output_type": "stream",
     "text": [
      "Exploring quadrilateral case - Part 2\n"
     ]
    },
    {
     "name": "stderr",
     "output_type": "stream",
     "text": [
      " 79%|███████▊  | 7080/9000 [5:13:24<1:00:16,  1.88s/it] "
     ]
    }
   ],
   "source": [
    "#Graphs9_4 = load_data('quadrilateral_tiling_grahps_9.txt')\n",
    "#save_ang_perms(4,'4_perms.txt')\n",
    "\n",
    "print('Exploring quadrilateral case - Part 2')\n",
    "\n",
    "inputs = tqdm(Graphs9_4[1000:10000])\n",
    "numSides = 4\n",
    "\n",
    "if __name__ == \"__main__\":\n",
    "    processed_list = Parallel(n_jobs=num_cores)(delayed(search)(ig,G,numSides) for ig,G in enumerate(inputs))\n",
    "\n",
    "FinalNodes_4 += [Nodes for Nodes in processed_list if len(Nodes)>0]\n",
    "\n",
    "print(f'Left with {len(FinalNodes_4)} graphs.')"
   ]
  },
  {
   "cell_type": "code",
   "execution_count": null,
   "metadata": {},
   "outputs": [],
   "source": [
    "#Graphs9_4 = load_data('quadrilateral_tiling_grahps_9.txt')\n",
    "#save_ang_perms(4,'4_perms.txt')\n",
    "\n",
    "print('Exploring quadrilateral case - Part 3')\n",
    "\n",
    "inputs = tqdm(Graphs9_4[10000:20000])\n",
    "numSides = 4\n",
    "\n",
    "if __name__ == \"__main__\":\n",
    "    processed_list = Parallel(n_jobs=num_cores)(delayed(search)(ig,G,numSides) for ig,G in enumerate(inputs))\n",
    "\n",
    "FinalNodes_4 += [Nodes for Nodes in processed_list if len(Nodes)>0]\n",
    "\n",
    "print(f'Left with {len(FinalNodes_4)} graphs.')"
   ]
  },
  {
   "cell_type": "code",
   "execution_count": null,
   "metadata": {},
   "outputs": [],
   "source": [
    "#Graphs9_4 = load_data('quadrilateral_tiling_grahps_9.txt')\n",
    "#save_ang_perms(4,'4_perms.txt')\n",
    "\n",
    "print('Exploring quadrilateral case - Part 4')\n",
    "\n",
    "inputs = tqdm(Graphs9_4[20000:30000])\n",
    "numSides = 4\n",
    "\n",
    "if __name__ == \"__main__\":\n",
    "    processed_list = Parallel(n_jobs=num_cores)(delayed(search)(ig,G,numSides) for ig,G in enumerate(inputs))\n",
    "\n",
    "FinalNodes_4 += [Nodes for Nodes in processed_list if len(Nodes)>0]\n",
    "\n",
    "print(f'Left with {len(FinalNodes_4)} graphs.')"
   ]
  },
  {
   "cell_type": "code",
   "execution_count": null,
   "metadata": {},
   "outputs": [],
   "source": [
    "#Graphs9_4 = load_data('quadrilateral_tiling_grahps_9.txt')\n",
    "#save_ang_perms(4,'4_perms.txt')\n",
    "\n",
    "print('Exploring quadrilateral case - Part 5')\n",
    "\n",
    "inputs = tqdm(Graphs9_4[30000:40000])\n",
    "numSides = 4\n",
    "\n",
    "if __name__ == \"__main__\":\n",
    "    processed_list = Parallel(n_jobs=num_cores)(delayed(search)(ig,G,numSides) for ig,G in enumerate(inputs))\n",
    "\n",
    "FinalNodes_4 += [Nodes for Nodes in processed_list if len(Nodes)>0]\n",
    "\n",
    "print(f'Left with {len(FinalNodes_4)} graphs.')"
   ]
  },
  {
   "cell_type": "code",
   "execution_count": null,
   "metadata": {},
   "outputs": [],
   "source": []
  },
  {
   "cell_type": "code",
   "execution_count": null,
   "metadata": {},
   "outputs": [],
   "source": []
  },
  {
   "cell_type": "code",
   "execution_count": null,
   "metadata": {},
   "outputs": [],
   "source": []
  },
  {
   "cell_type": "code",
   "execution_count": null,
   "metadata": {},
   "outputs": [],
   "source": []
  },
  {
   "cell_type": "code",
   "execution_count": 8,
   "metadata": {},
   "outputs": [
    {
     "name": "stderr",
     "output_type": "stream",
     "text": [
      "100%|██████████| 4/4 [00:00<00:00, 272.49it/s]"
     ]
    },
    {
     "name": "stdout",
     "output_type": "stream",
     "text": [
      "Exploring pentagonal case\n"
     ]
    },
    {
     "name": "stderr",
     "output_type": "stream",
     "text": [
      "\n"
     ]
    },
    {
     "name": "stdout",
     "output_type": "stream",
     "text": [
      "Left with 0 graphs.\n"
     ]
    }
   ],
   "source": [
    "#Graphs9_5 = load_data('pentagonal_tiling_grahps_9.txt')\n",
    "save_ang_perms(5,'5_perms.txt')\n",
    "\n",
    "print('Exploring pentagonal case')\n",
    "\n",
    "inputs = tqdm(Graphs9_5)\n",
    "numSides = 5\n",
    "\n",
    "if __name__ == \"__main__\":\n",
    "    processed_list = Parallel(n_jobs=num_cores)(delayed(search)(ig,G,numSides) for ig,G in enumerate(inputs))\n",
    "\n",
    "FinalNodes_5 = [Nodes for Nodes in processed_list if len(Nodes)>0]\n",
    "\n",
    "print(f'Left with {len(FinalNodes_5)} graphs.')"
   ]
  },
  {
   "cell_type": "code",
   "execution_count": null,
   "metadata": {},
   "outputs": [],
   "source": []
  },
  {
   "cell_type": "code",
   "execution_count": null,
   "metadata": {},
   "outputs": [],
   "source": []
  },
  {
   "cell_type": "code",
   "execution_count": null,
   "metadata": {},
   "outputs": [],
   "source": []
  },
  {
   "cell_type": "code",
   "execution_count": null,
   "metadata": {},
   "outputs": [],
   "source": []
  },
  {
   "cell_type": "code",
   "execution_count": null,
   "metadata": {},
   "outputs": [],
   "source": []
  },
  {
   "cell_type": "code",
   "execution_count": null,
   "metadata": {},
   "outputs": [],
   "source": []
  },
  {
   "cell_type": "code",
   "execution_count": null,
   "metadata": {},
   "outputs": [],
   "source": []
  },
  {
   "cell_type": "code",
   "execution_count": null,
   "metadata": {},
   "outputs": [],
   "source": []
  }
 ],
 "metadata": {
  "kernelspec": {
   "display_name": "Python 3",
   "language": "python",
   "name": "python3"
  },
  "language_info": {
   "codemirror_mode": {
    "name": "ipython",
    "version": 3
   },
   "file_extension": ".py",
   "mimetype": "text/x-python",
   "name": "python",
   "nbconvert_exporter": "python",
   "pygments_lexer": "ipython3",
   "version": "3.7.6"
  }
 },
 "nbformat": 4,
 "nbformat_minor": 4
}
